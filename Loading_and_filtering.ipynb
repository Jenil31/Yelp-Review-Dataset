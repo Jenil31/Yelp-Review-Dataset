{
 "cells": [
  {
   "cell_type": "markdown",
   "metadata": {},
   "source": [
    "## Loading files into mongodb"
   ]
  },
  {
   "cell_type": "code",
   "execution_count": 16,
   "metadata": {
    "collapsed": true
   },
   "outputs": [],
   "source": [
    "from pymongo import MongoClient # Install for using this lib.\n",
    "import subprocess\n"
   ]
  },
  {
   "cell_type": "code",
   "execution_count": 18,
   "metadata": {
    "collapsed": true
   },
   "outputs": [],
   "source": [
    "dbname = 'test'\n",
    "collection_name1 = 'reviews'\n",
    "collection_name2 = 'business'\n",
    "collection_name3 = 'users'\n",
    "\n",
    "input_file_name1 = '/Users/neerjadoshi/msan/Yelp/dataset/review.json'\n",
    "input_file_name2 = '/Users/neerjadoshi/msan/Yelp/dataset/business.json'\n",
    "input_file_name3 = '/Users/neerjadoshi/msan/Yelp/dataset/user.json'\n",
    "\n"
   ]
  },
  {
   "cell_type": "code",
   "execution_count": 19,
   "metadata": {
    "collapsed": true
   },
   "outputs": [],
   "source": [
    "def import_query(dbname, collection_name, input_file_name):\n",
    "    mongoimport_query =  'mongoimport --db ' + dbname + ' --collection ' + collection_name + ' --file ' + input_file_name\n",
    "    #COMPLETE THIS.\n",
    "    return mongoimport_query\n",
    " \n",
    "#Create connection \n",
    "client = MongoClient() #default-localhost:27017\n",
    "#Connect to database\n",
    "db = client[dbname]\n",
    "\n",
    "#Drop table.\n",
    "db[collection_name1].drop()\n",
    "db[collection_name2].drop()\n",
    "db[collection_name3].drop()\n",
    "\n",
    "#Insert all data from the input_file_name."
   ]
  },
  {
   "cell_type": "code",
   "execution_count": 20,
   "metadata": {},
   "outputs": [
    {
     "data": {
      "text/plain": [
       "0"
      ]
     },
     "execution_count": 20,
     "metadata": {},
     "output_type": "execute_result"
    }
   ],
   "source": [
    "mongoimport_query = import_query(dbname, collection_name1, input_file_name1)\n",
    "subprocess.call(mongoimport_query,shell=True)\n",
    "\n",
    "mongoimport_query = import_query(dbname, collection_name2, input_file_name2)\n",
    "subprocess.call(mongoimport_query,shell=True)\n",
    "\n",
    "mongoimport_query = import_query(dbname, collection_name3, input_file_name3)\n",
    "subprocess.call(mongoimport_query,shell=True)"
   ]
  },
  {
   "cell_type": "code",
   "execution_count": null,
   "metadata": {
    "collapsed": true
   },
   "outputs": [],
   "source": []
  },
  {
   "cell_type": "code",
   "execution_count": null,
   "metadata": {
    "collapsed": true
   },
   "outputs": [],
   "source": []
  },
  {
   "cell_type": "code",
   "execution_count": null,
   "metadata": {
    "collapsed": true
   },
   "outputs": [],
   "source": []
  },
  {
   "cell_type": "markdown",
   "metadata": {},
   "source": [
    "## Keep only restaurants"
   ]
  },
  {
   "cell_type": "code",
   "execution_count": 48,
   "metadata": {
    "collapsed": true
   },
   "outputs": [],
   "source": [
    "restaurants = db.business.find({ '$or' : [ { \"attributes.RestaurantsReservations\" : {'$exists' : 'true'} }, { \"attributes.RestaurantsDelivery\" : {'$exists':'true'}}, \n",
    "                            { \"attributes.RestaurantsAttire\" : {'$exists':'true'}}, { \"attributes.RestaurantsCounterService\" : {'$exists':'true'}}, \n",
    "                            { \"attributes.RestaurantsGoodForGroups\" : {'$exists':'true'}}, { \"attributes.RestaurantsPriceRange2\" : {'$exists':'true'}}, \n",
    "                            { \"attributes.RestaurantsTableService\" : {'$exists':'true'}}, { \"attributes.RestaurantsTakeOut\" : {'$exists':'true'}}, \n",
    "                            { \"attributes.GoodForMeal\" : {'$exists':'true'}}]})"
   ]
  },
  {
   "cell_type": "markdown",
   "metadata": {},
   "source": [
    "We'll have to rewrite the restaurants into mongo db or so, or just filter the business db to contain only those that are in restaurants. I've just created a filtered list for now."
   ]
  },
  {
   "cell_type": "code",
   "execution_count": 49,
   "metadata": {},
   "outputs": [
    {
     "data": {
      "text/plain": [
       "199132"
      ]
     },
     "execution_count": 49,
     "metadata": {},
     "output_type": "execute_result"
    }
   ],
   "source": [
    "len(list(restaurants))"
   ]
  },
  {
   "cell_type": "code",
   "execution_count": null,
   "metadata": {},
   "outputs": [],
   "source": [
    "# list(db.business.find({ '$or' : [ { \"attributes.RestaurantsReservations\" : {'$exists' : 'true'} }, { \"attributes.RestaurantsDelivery\" : {'$exists':'true'}}, \n",
    "#                             { \"attributes.RestaurantsAttire\" : {'$exists':'true'}}, { \"attributes.RestaurantsCounterService\" : {'$exists':'true'}}, \n",
    "#                             { \"attributes.RestaurantsGoodForGroups\" : {'$exists':'true'}}, { \"attributes.RestaurantsPriceRange2\" : {'$exists':'true'}}, \n",
    "#                             { \"attributes.RestaurantsTableService\" : {'$exists':'true'}}, { \"attributes.RestaurantsTakeOut\" : {'$exists':'true'}}, \n",
    "#                             { \"attributes.GoodForMeal\" : {'$exists':'true'}}]}))"
   ]
  },
  {
   "cell_type": "code",
   "execution_count": 51,
   "metadata": {
    "collapsed": true
   },
   "outputs": [],
   "source": [
    "db.restaurant.drop()"
   ]
  },
  {
   "cell_type": "markdown",
   "metadata": {},
   "source": [
    "Find a way to save restaurants as a table. This doesnt work:"
   ]
  },
  {
   "cell_type": "code",
   "execution_count": 52,
   "metadata": {},
   "outputs": [
    {
     "name": "stderr",
     "output_type": "stream",
     "text": [
      "/Users/neerjadoshi/anaconda2/lib/python2.7/site-packages/ipykernel_launcher.py:1: DeprecationWarning: insert is deprecated. Use insert_one or insert_many instead.\n",
      "  \"\"\"Entry point for launching an IPython kernel.\n"
     ]
    },
    {
     "ename": "InvalidOperation",
     "evalue": "No operations to execute",
     "output_type": "error",
     "traceback": [
      "\u001b[0;31m---------------------------------------------------------------------------\u001b[0m",
      "\u001b[0;31mInvalidOperation\u001b[0m                          Traceback (most recent call last)",
      "\u001b[0;32m<ipython-input-52-e7a29e3bb9e3>\u001b[0m in \u001b[0;36m<module>\u001b[0;34m()\u001b[0m\n\u001b[0;32m----> 1\u001b[0;31m \u001b[0mdb\u001b[0m\u001b[0;34m.\u001b[0m\u001b[0mrestaurant\u001b[0m\u001b[0;34m.\u001b[0m\u001b[0minsert\u001b[0m\u001b[0;34m(\u001b[0m\u001b[0mrestaurants\u001b[0m\u001b[0;34m)\u001b[0m\u001b[0;34m\u001b[0m\u001b[0m\n\u001b[0m",
      "\u001b[0;32m/Users/neerjadoshi/anaconda2/lib/python2.7/site-packages/pymongo/collection.pyc\u001b[0m in \u001b[0;36minsert\u001b[0;34m(self, doc_or_docs, manipulate, check_keys, continue_on_error, **kwargs)\u001b[0m\n\u001b[1;32m   2933\u001b[0m             \u001b[0mwrite_concern\u001b[0m \u001b[0;34m=\u001b[0m \u001b[0mWriteConcern\u001b[0m\u001b[0;34m(\u001b[0m\u001b[0;34m**\u001b[0m\u001b[0mkwargs\u001b[0m\u001b[0;34m)\u001b[0m\u001b[0;34m\u001b[0m\u001b[0m\n\u001b[1;32m   2934\u001b[0m         return self._insert(doc_or_docs, not continue_on_error,\n\u001b[0;32m-> 2935\u001b[0;31m                             check_keys, manipulate, write_concern)\n\u001b[0m\u001b[1;32m   2936\u001b[0m \u001b[0;34m\u001b[0m\u001b[0m\n\u001b[1;32m   2937\u001b[0m     def update(self, spec, document, upsert=False, manipulate=False,\n",
      "\u001b[0;32m/Users/neerjadoshi/anaconda2/lib/python2.7/site-packages/pymongo/collection.pyc\u001b[0m in \u001b[0;36m_insert\u001b[0;34m(self, docs, ordered, check_keys, manipulate, write_concern, op_id, bypass_doc_val, session)\u001b[0m\n\u001b[1;32m    630\u001b[0m         \u001b[0mblk\u001b[0m\u001b[0;34m.\u001b[0m\u001b[0mops\u001b[0m \u001b[0;34m=\u001b[0m \u001b[0;34m[\u001b[0m\u001b[0;34m(\u001b[0m\u001b[0mmessage\u001b[0m\u001b[0;34m.\u001b[0m\u001b[0m_INSERT\u001b[0m\u001b[0;34m,\u001b[0m \u001b[0mdoc\u001b[0m\u001b[0;34m)\u001b[0m \u001b[0;32mfor\u001b[0m \u001b[0mdoc\u001b[0m \u001b[0;32min\u001b[0m \u001b[0mgen\u001b[0m\u001b[0;34m(\u001b[0m\u001b[0;34m)\u001b[0m\u001b[0;34m]\u001b[0m\u001b[0;34m\u001b[0m\u001b[0m\n\u001b[1;32m    631\u001b[0m         \u001b[0;32mtry\u001b[0m\u001b[0;34m:\u001b[0m\u001b[0;34m\u001b[0m\u001b[0m\n\u001b[0;32m--> 632\u001b[0;31m             \u001b[0mblk\u001b[0m\u001b[0;34m.\u001b[0m\u001b[0mexecute\u001b[0m\u001b[0;34m(\u001b[0m\u001b[0mconcern\u001b[0m\u001b[0;34m,\u001b[0m \u001b[0msession\u001b[0m\u001b[0;34m=\u001b[0m\u001b[0msession\u001b[0m\u001b[0;34m)\u001b[0m\u001b[0;34m\u001b[0m\u001b[0m\n\u001b[0m\u001b[1;32m    633\u001b[0m         \u001b[0;32mexcept\u001b[0m \u001b[0mBulkWriteError\u001b[0m \u001b[0;32mas\u001b[0m \u001b[0mbwe\u001b[0m\u001b[0;34m:\u001b[0m\u001b[0;34m\u001b[0m\u001b[0m\n\u001b[1;32m    634\u001b[0m             \u001b[0m_raise_last_error\u001b[0m\u001b[0;34m(\u001b[0m\u001b[0mbwe\u001b[0m\u001b[0;34m.\u001b[0m\u001b[0mdetails\u001b[0m\u001b[0;34m)\u001b[0m\u001b[0;34m\u001b[0m\u001b[0m\n",
      "\u001b[0;32m/Users/neerjadoshi/anaconda2/lib/python2.7/site-packages/pymongo/bulk.pyc\u001b[0m in \u001b[0;36mexecute\u001b[0;34m(self, write_concern, session)\u001b[0m\n\u001b[1;32m    412\u001b[0m         \"\"\"\n\u001b[1;32m    413\u001b[0m         \u001b[0;32mif\u001b[0m \u001b[0;32mnot\u001b[0m \u001b[0mself\u001b[0m\u001b[0;34m.\u001b[0m\u001b[0mops\u001b[0m\u001b[0;34m:\u001b[0m\u001b[0;34m\u001b[0m\u001b[0m\n\u001b[0;32m--> 414\u001b[0;31m             \u001b[0;32mraise\u001b[0m \u001b[0mInvalidOperation\u001b[0m\u001b[0;34m(\u001b[0m\u001b[0;34m'No operations to execute'\u001b[0m\u001b[0;34m)\u001b[0m\u001b[0;34m\u001b[0m\u001b[0m\n\u001b[0m\u001b[1;32m    415\u001b[0m         \u001b[0;32mif\u001b[0m \u001b[0mself\u001b[0m\u001b[0;34m.\u001b[0m\u001b[0mexecuted\u001b[0m\u001b[0;34m:\u001b[0m\u001b[0;34m\u001b[0m\u001b[0m\n\u001b[1;32m    416\u001b[0m             raise InvalidOperation('Bulk operations can '\n",
      "\u001b[0;31mInvalidOperation\u001b[0m: No operations to execute"
     ]
    }
   ],
   "source": [
    "db.restaurant.insert(restaurants)"
   ]
  },
  {
   "cell_type": "markdown",
   "metadata": {},
   "source": [
    "Filter business and users based on reviews:"
   ]
  },
  {
   "cell_type": "markdown",
   "metadata": {},
   "source": [
    "## Load tables into pyspark"
   ]
  },
  {
   "cell_type": "code",
   "execution_count": 6,
   "metadata": {
    "collapsed": true
   },
   "outputs": [],
   "source": [
    "reviews = spark.read.format(\"com.mongodb.spark.sql.DefaultSource\").option(\"uri\",\"mongodb://127.0.0.1/test.reviews\").load()\n",
    "\n",
    "# Replace with only restaurants\n",
    "business = spark.read.format(\"com.mongodb.spark.sql.DefaultSource\").option(\"uri\",\"mongodb://127.0.0.1/test.business\").load()\n",
    "\n",
    "users = spark.read.format(\"com.mongodb.spark.sql.DefaultSource\").option(\"uri\",\"mongodb://127.0.0.1/test.users\").load()"
   ]
  },
  {
   "cell_type": "code",
   "execution_count": 10,
   "metadata": {},
   "outputs": [
    {
     "name": "stdout",
     "output_type": "stream",
     "text": [
      "+--------------------+--------------------+----+----------+-----+--------------------+-----+--------------------+------+--------------------+\n",
      "|                 _id|         business_id|cool|      date|funny|           review_id|stars|                text|useful|             user_id|\n",
      "+--------------------+--------------------+----+----------+-----+--------------------+-----+--------------------+------+--------------------+\n",
      "|[5a5a5e8eda8b9b57...|uYHaNptLzDLoV_JZ_...|   0|2016-07-12|    0|VfBHSwC5Vz_pbFluy...|    5|My girlfriend and...|     0|cjpdDjZyprfyDG3Rl...|\n",
      "+--------------------+--------------------+----+----------+-----+--------------------+-----+--------------------+------+--------------------+\n",
      "only showing top 1 row\n",
      "\n"
     ]
    }
   ],
   "source": [
    "reviews.show(1)"
   ]
  },
  {
   "cell_type": "code",
   "execution_count": 13,
   "metadata": {},
   "outputs": [
    {
     "name": "stdout",
     "output_type": "stream",
     "text": [
      "+--------------------+--------------------+--------------------+--------------------+--------------------+----------------+--------------------+-------+----------+------------+--------------------+-------------+-----------+------------+-----+-----+\n",
      "|                 _id|             address|          attributes|         business_id|          categories|            city|               hours|is_open|  latitude|   longitude|                name| neighborhood|postal_code|review_count|stars|state|\n",
      "+--------------------+--------------------+--------------------+--------------------+--------------------+----------------+--------------------+-------+----------+------------+--------------------+-------------+-----------+------------+-----+-----+\n",
      "|[5a5a5f23da8b9b57...|7702 E Doubletree...|[null,null,null,n...|CVtCbSB1zUcUWg-9T...|[Professional Ser...|      Scottsdale|[9:00-17:00,9:00-...|      1|33.5650816|-111.9164003|            TRUmatch|             |      85258|           3|  3.0|   AZ|\n",
      "|[5a5a5f23da8b9b57...|      4719 N 20Th St|[null,null,none,[...|duHFBe87uNSXImQmv...|[Sandwiches, Rest...|         Phoenix|[null,null,null,n...|      0|33.5059283|-112.0388474|             Blimpie|             |      85016|          10|  4.5|   AZ|\n",
      "|[5a5a5f23da8b9b57...|     691 Richmond Rd|[null,null,null,n...|YDf95gJZaq05wvo7h...|[Shopping, Shoppi...|Richmond Heights|[10:00-21:00,10:0...|      1|41.5417162| -81.4931165|Richmond Town Square|             |      44143|          17|  2.0|   OH|\n",
      "|[5a5a5f23da8b9b57...| 2017 E Camelback Rd|[null,null,null,n...|uUEMrhJiL1a1pCA_I...|[Shopping, Tobacc...|         Phoenix|[10:00-21:00,10:0...|      0|33.5080678|-112.0375524|     Baxter's Cigars|             |      85016|          35|  5.0|   AZ|\n",
      "|[5a5a5f23da8b9b57...| 337 Danforth Avenue|[null,null,null,n...|v2WhjAB3PIBA8J8Vx...|[Food, Coffee & Tea]|         Toronto|[10:00-19:00,10:0...|      0|43.6771258| -79.3532848|    The Tea Emporium|    Riverdale|    M4K 1N7|           7|  4.5|   ON|\n",
      "|[5a5a5f23da8b9b57...|      2824 Milton Rd|[null,null,null,[...|mLwM-h2YhXl2NCgdS...|[Food, Soul Food,...|       Charlotte|[10:00-22:00,10:0...|      0|  35.23687| -80.7419759|South Florida Sty...|     Eastland|      28215|           4|  4.5|   NC|\n",
      "|[5a5a5f23da8b9b57...|  3220 Washington Rd|[null,null,null,n...|kFtuYklkAIlmYw8RZ...|[Jewelry Repair, ...|        McMurray|[10:00-18:00,10:0...|      1|40.2904976| -80.1100212| JAB Jewelry Designs|             |      15317|           7|  5.0|   PA|\n",
      "|[5a5a5f23da8b9b57...|4425 N 24th St, S...|[true,null,null,n...|2eJEUJIP54tex7T9Y...|[Chiropractors, H...|         Phoenix|[9:00-12:00,14:30...|      1|33.5028476| -112.012696|Back-Health Chiro...|             |      85016|          19|  5.0|   AZ|\n",
      "|[5a5a5f23da8b9b57...|      5770 Butler St|[null,null,null,n...|fEylCY3UEH8YJ0Xa7...|[Automotive, Oil ...|      Pittsburgh|[8:00-17:00,8:00-...|      1|40.4859391| -79.9437273|       Auto Bathouse|Lawrenceville|      15201|          16|  2.5|   PA|\n",
      "|[5a5a5f23da8b9b57...|1425 S Higley Rd,...|[true,null,null,n...|NqiQdFa93wzUJGo29...|[Health & Medical...|         Gilbert|[7:30-11:00,7:30-...|      1|33.3245392|-111.7204486|Neighborhood Visi...|             |      85296|           8|  5.0|   AZ|\n",
      "+--------------------+--------------------+--------------------+--------------------+--------------------+----------------+--------------------+-------+----------+------------+--------------------+-------------+-----------+------------+-----+-----+\n",
      "only showing top 10 rows\n",
      "\n"
     ]
    }
   ],
   "source": [
    "business.show(10)"
   ]
  },
  {
   "cell_type": "code",
   "execution_count": 12,
   "metadata": {},
   "outputs": [
    {
     "name": "stdout",
     "output_type": "stream",
     "text": [
      "+--------------------+-------------+---------------+---------------+----------------+--------------+---------------+---------------+---------------+-----------------+----------------+------------------+-----------------+-----+--------------------+----+--------------------+-----+----+------------+------+--------------------+-------------+\n",
      "|                 _id|average_stars|compliment_cool|compliment_cute|compliment_funny|compliment_hot|compliment_list|compliment_more|compliment_note|compliment_photos|compliment_plain|compliment_profile|compliment_writer| cool|               elite|fans|             friends|funny|name|review_count|useful|             user_id|yelping_since|\n",
      "+--------------------+-------------+---------------+---------------+----------------+--------------+---------------+---------------+---------------+-----------------+----------------+------------------+-----------------+-----+--------------------+----+--------------------+-----+----+------------+------+--------------------+-------------+\n",
      "|[5a5a5eaada8b9b57...|          3.8|           5174|            284|            5174|          5175|             78|            299|           1435|             7829|            7397|               569|             1834|16856|[2014, 2016, 2013...| 209|[M19NwFwAXKRZzt8k...|16605| Cin|         272| 17019|lsSiIjAKVl-QRxKjR...|   2010-07-13|\n",
      "+--------------------+-------------+---------------+---------------+----------------+--------------+---------------+---------------+---------------+-----------------+----------------+------------------+-----------------+-----+--------------------+----+--------------------+-----+----+------------+------+--------------------+-------------+\n",
      "only showing top 1 row\n",
      "\n"
     ]
    }
   ],
   "source": [
    "users.show(1)"
   ]
  },
  {
   "cell_type": "code",
   "execution_count": 14,
   "metadata": {},
   "outputs": [
    {
     "data": {
      "text/plain": [
       "DataFrame[attributes: struct<AcceptsInsurance:boolean,AgesAllowed:string,Alcohol:string,Ambience:struct<casual:boolean,classy:boolean,divey:boolean,hipster:boolean,intimate:boolean,romantic:boolean,touristy:boolean,trendy:boolean,upscale:boolean>,BYOB:boolean,BYOBCorkage:string,BestNights:struct<monday:boolean,tuesday:boolean,friday:boolean,wednesday:boolean,thursday:boolean,sunday:boolean,saturday:boolean>,BikeParking:boolean,BusinessAcceptsBitcoin:boolean,BusinessAcceptsCreditCards:boolean,BusinessParking:struct<garage:boolean,lot:boolean,street:boolean,valet:boolean,validated:boolean>,ByAppointmentOnly:boolean,Caters:boolean,CoatCheck:boolean,Corkage:boolean,DogsAllowed:boolean,DriveThru:boolean,GoodForDancing:boolean,GoodForKids:boolean,GoodForMeal:struct<dessert:boolean,latenight:boolean,lunch:boolean,dinner:boolean,breakfast:boolean,brunch:boolean>,HairSpecializesIn:struct<africanamerican:boolean,asian:boolean,coloring:boolean,curly:boolean,extensions:boolean,kids:boolean,perms:boolean,straightperms:boolean>,HappyHour:boolean,HasTV:boolean,Music:struct<dj:boolean,background_music:boolean,no_music:boolean,karaoke:boolean,live:boolean,video:boolean,jukebox:boolean>,NoiseLevel:string,Open24Hours:boolean,OutdoorSeating:boolean,RestaurantsAttire:string,RestaurantsCounterService:boolean,RestaurantsDelivery:boolean,RestaurantsGoodForGroups:boolean,RestaurantsPriceRange2:int,RestaurantsReservations:boolean,RestaurantsTableService:boolean,RestaurantsTakeOut:boolean,Smoking:string,WheelchairAccessible:boolean,WiFi:string>]"
      ]
     },
     "execution_count": 14,
     "metadata": {},
     "output_type": "execute_result"
    }
   ],
   "source": [
    "business.select('attributes')"
   ]
  },
  {
   "cell_type": "code",
   "execution_count": null,
   "metadata": {
    "collapsed": true
   },
   "outputs": [],
   "source": []
  },
  {
   "cell_type": "code",
   "execution_count": null,
   "metadata": {
    "collapsed": true
   },
   "outputs": [],
   "source": []
  }
 ],
 "metadata": {
  "kernelspec": {
   "display_name": "Python 2",
   "language": "python",
   "name": "python2"
  },
  "language_info": {
   "codemirror_mode": {
    "name": "ipython",
    "version": 2
   },
   "file_extension": ".py",
   "mimetype": "text/x-python",
   "name": "python",
   "nbconvert_exporter": "python",
   "pygments_lexer": "ipython2",
   "version": "2.7.13"
  }
 },
 "nbformat": 4,
 "nbformat_minor": 2
}
