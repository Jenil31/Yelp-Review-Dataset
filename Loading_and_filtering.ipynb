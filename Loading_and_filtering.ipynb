{
 "cells": [
  {
   "cell_type": "markdown",
   "metadata": {},
   "source": [
    "## Loading files into mongodb"
   ]
  },
  {
   "cell_type": "code",
   "execution_count": 1,
   "metadata": {
    "collapsed": true
   },
   "outputs": [],
   "source": [
    "from pymongo import MongoClient # Install for using this lib.\n",
    "import subprocess"
   ]
  },
  {
   "cell_type": "code",
   "execution_count": 2,
   "metadata": {
    "collapsed": true
   },
   "outputs": [],
   "source": [
    "dbname = 'test'\n",
    "collection_name1 = 'reviews'\n",
    "collection_name2 = 'business'\n",
    "collection_name3 = 'users'\n",
    "\n",
    "path = \"/Users/neerjadoshi/msan/Yelp/dataset/\"\n",
    "\n",
    "input_file_name1 = path+\"review.json\"\n",
    "input_file_name2 = path+'business.json'\n",
    "input_file_name3 = path+'user.json'\n",
    "\n"
   ]
  },
  {
   "cell_type": "code",
   "execution_count": 3,
   "metadata": {
    "collapsed": true
   },
   "outputs": [],
   "source": [
    "def import_query(dbname, collection_name, input_file_name):\n",
    "    mongoimport_query =  'mongoimport --db ' + dbname + ' --collection ' + collection_name + ' --file ' + input_file_name\n",
    "    #COMPLETE THIS.\n",
    "    return mongoimport_query\n",
    " \n",
    "#Create connection \n",
    "client = MongoClient() #default-localhost:27017\n",
    "#Connect to database\n",
    "db = client[dbname]\n",
    "\n",
    "#Drop table.\n",
    "db[collection_name1].drop()\n",
    "db[collection_name2].drop()\n",
    "db[collection_name3].drop()\n",
    "\n",
    "#Insert all data from the input_file_name."
   ]
  },
  {
   "cell_type": "code",
   "execution_count": 4,
   "metadata": {},
   "outputs": [
    {
     "data": {
      "text/plain": [
       "0"
      ]
     },
     "execution_count": 4,
     "metadata": {},
     "output_type": "execute_result"
    }
   ],
   "source": [
    "mongoimport_query = import_query(dbname, collection_name1, input_file_name1)\n",
    "subprocess.call(mongoimport_query,shell=True)\n",
    "\n",
    "mongoimport_query = import_query(dbname, collection_name2, input_file_name2)\n",
    "subprocess.call(mongoimport_query,shell=True)\n",
    "\n",
    "mongoimport_query = import_query(dbname, collection_name3, input_file_name3)\n",
    "subprocess.call(mongoimport_query,shell=True)"
   ]
  },
  {
   "cell_type": "code",
   "execution_count": 24,
   "metadata": {},
   "outputs": [],
   "source": [
    "# db.reviews.find()"
   ]
  },
  {
   "cell_type": "markdown",
   "metadata": {},
   "source": [
    "## Keep only restaurants"
   ]
  },
  {
   "cell_type": "code",
   "execution_count": 52,
   "metadata": {
    "collapsed": true
   },
   "outputs": [],
   "source": [
    "restaurants = db.business.find({ '$or' : [ { \"attributes.RestaurantsReservations\" : {'$exists' : 'true'} }, { \"attributes.RestaurantsDelivery\" : {'$exists':'true'}}, \n",
    "                            { \"attributes.RestaurantsAttire\" : {'$exists':'true'}}, { \"attributes.RestaurantsCounterService\" : {'$exists':'true'}}, \n",
    "                            { \"attributes.RestaurantsGoodForGroups\" : {'$exists':'true'}}, { \"attributes.RestaurantsPriceRange2\" : {'$exists':'true'}}, \n",
    "                            { \"attributes.RestaurantsTableService\" : {'$exists':'true'}}, { \"attributes.RestaurantsTakeOut\" : {'$exists':'true'}}, \n",
    "                            { \"attributes.GoodForMeal\" : {'$exists':'true'}}]})"
   ]
  },
  {
   "cell_type": "code",
   "execution_count": 53,
   "metadata": {},
   "outputs": [
    {
     "data": {
      "text/plain": [
       "99566"
      ]
     },
     "execution_count": 53,
     "metadata": {},
     "output_type": "execute_result"
    }
   ],
   "source": [
    "len(list(restaurants))"
   ]
  },
  {
   "cell_type": "markdown",
   "metadata": {},
   "source": [
    "#### Finding restuarants having review counts greater than 25"
   ]
  },
  {
   "cell_type": "code",
   "execution_count": 33,
   "metadata": {
    "collapsed": true
   },
   "outputs": [],
   "source": [
    "restaurants = db.business.find({ '$or' : [ { \"attributes.RestaurantsReservations\" : {'$exists' : 'true'} }, { \"attributes.RestaurantsDelivery\" : {'$exists':'true'}}, \n",
    "                            { \"attributes.RestaurantsAttire\" : {'$exists':'true'}}, { \"attributes.RestaurantsCounterService\" : {'$exists':'true'}}, \n",
    "                            { \"attributes.RestaurantsGoodForGroups\" : {'$exists':'true'}}, { \"attributes.RestaurantsPriceRange2\" : {'$exists':'true'}}, \n",
    "                            { \"attributes.RestaurantsTableService\" : {'$exists':'true'}}, { \"attributes.RestaurantsTakeOut\" : {'$exists':'true'}}, \n",
    "                            { \"attributes.GoodForMeal\" : {'$exists':'true'}}], \n",
    "                    \"review_count\":{\"$gt\": 25}})"
   ]
  },
  {
   "cell_type": "code",
   "execution_count": 34,
   "metadata": {
    "collapsed": true
   },
   "outputs": [],
   "source": [
    "rest = list(restaurants)"
   ]
  },
  {
   "cell_type": "code",
   "execution_count": 35,
   "metadata": {
    "collapsed": true
   },
   "outputs": [],
   "source": [
    "# Collecting business ID's\n",
    "business_ids = []\n",
    "for i in range(len(rest)):\n",
    "    business_ids.append(rest[i]['business_id'])"
   ]
  },
  {
   "cell_type": "code",
   "execution_count": 9,
   "metadata": {},
   "outputs": [
    {
     "data": {
      "text/plain": [
       "30152"
      ]
     },
     "execution_count": 9,
     "metadata": {},
     "output_type": "execute_result"
    }
   ],
   "source": [
    "len(business_ids)"
   ]
  },
  {
   "cell_type": "code",
   "execution_count": 10,
   "metadata": {
    "collapsed": true
   },
   "outputs": [],
   "source": [
    "# list(db.business.find({ '$or' : [ { \"attributes.RestaurantsReservations\" : {'$exists' : 'true'} }, { \"attributes.RestaurantsDelivery\" : {'$exists':'true'}}, \n",
    "#                             { \"attributes.RestaurantsAttire\" : {'$exists':'true'}}, { \"attributes.RestaurantsCounterService\" : {'$exists':'true'}}, \n",
    "#                             { \"attributes.RestaurantsGoodForGroups\" : {'$exists':'true'}}, { \"attributes.RestaurantsPriceRange2\" : {'$exists':'true'}}, \n",
    "#                             { \"attributes.RestaurantsTableService\" : {'$exists':'true'}}, { \"attributes.RestaurantsTakeOut\" : {'$exists':'true'}}, \n",
    "#                             { \"attributes.GoodForMeal\" : {'$exists':'true'}}]}))"
   ]
  },
  {
   "cell_type": "markdown",
   "metadata": {
    "collapsed": true
   },
   "source": [
    "#### Filtering users (having reviews count greater than 25)"
   ]
  },
  {
   "cell_type": "code",
   "execution_count": 36,
   "metadata": {
    "collapsed": true
   },
   "outputs": [],
   "source": [
    "filtered_users = db.users.find({\"review_count\":{\"$gt\": 25}})"
   ]
  },
  {
   "cell_type": "code",
   "execution_count": 37,
   "metadata": {
    "collapsed": true
   },
   "outputs": [],
   "source": [
    "user = list(filtered_users )"
   ]
  },
  {
   "cell_type": "code",
   "execution_count": 38,
   "metadata": {
    "collapsed": true
   },
   "outputs": [],
   "source": [
    "user_ids = []\n",
    "for i in range(len(user)):\n",
    "    user_ids.append(user[i]['user_id'])"
   ]
  },
  {
   "cell_type": "code",
   "execution_count": 39,
   "metadata": {},
   "outputs": [
    {
     "data": {
      "text/plain": [
       "203189"
      ]
     },
     "execution_count": 39,
     "metadata": {},
     "output_type": "execute_result"
    }
   ],
   "source": [
    "len(user_ids)"
   ]
  },
  {
   "cell_type": "markdown",
   "metadata": {
    "collapsed": true
   },
   "source": [
    "#### Filtering reviews basis above user_id & business_id and stars"
   ]
  },
  {
   "cell_type": "code",
   "execution_count": 23,
   "metadata": {},
   "outputs": [],
   "source": [
    "# len(list(db.reviews.find()))"
   ]
  },
  {
   "cell_type": "code",
   "execution_count": null,
   "metadata": {
    "collapsed": true
   },
   "outputs": [],
   "source": [
    "filtered_reviews = db.reviews.find({\"user_id\": {'$in':user_ids}, \"business_id\": {'$in':business_ids}, \n",
    "                                    \"stars\": {'$in':[1,2,3,4,5]}})"
   ]
  },
  {
   "cell_type": "code",
   "execution_count": 21,
   "metadata": {
    "collapsed": true
   },
   "outputs": [],
   "source": [
    "# review = list(filtered_reviews )"
   ]
  },
  {
   "cell_type": "code",
   "execution_count": 22,
   "metadata": {},
   "outputs": [
    {
     "data": {
      "text/plain": [
       "1727718"
      ]
     },
     "execution_count": 22,
     "metadata": {},
     "output_type": "execute_result"
    }
   ],
   "source": [
    "# len(review)"
   ]
  },
  {
   "cell_type": "markdown",
   "metadata": {},
   "source": [
    "**Saving filtered reviews as a table:**"
   ]
  },
  {
   "cell_type": "code",
   "execution_count": null,
   "metadata": {},
   "outputs": [],
   "source": [
    "db.filtered_reviews.drop()\n",
    "result = db.filtered_reviews.insert_many(filtered_reviews)\n",
    "# result.inserted_ids\n",
    "\n"
   ]
  },
  {
   "cell_type": "markdown",
   "metadata": {},
   "source": [
    "## Load tables into pyspark"
   ]
  },
  {
   "cell_type": "code",
   "execution_count": 25,
   "metadata": {
    "collapsed": true
   },
   "outputs": [],
   "source": [
    "reviews = spark.read.format(\"com.mongodb.spark.sql.DefaultSource\").option(\"uri\",\"mongodb://127.0.0.1/test.filtered_reviews\").load()\n",
    "\n",
    "business = spark.read.format(\"com.mongodb.spark.sql.DefaultSource\").option(\"uri\",\"mongodb://127.0.0.1/test.business\").load()\n",
    "\n",
    "users = spark.read.format(\"com.mongodb.spark.sql.DefaultSource\").option(\"uri\",\"mongodb://127.0.0.1/test.users\").load()"
   ]
  },
  {
   "cell_type": "code",
   "execution_count": 26,
   "metadata": {},
   "outputs": [
    {
     "name": "stdout",
     "output_type": "stream",
     "text": [
      "+--------------------+--------------------+----+----------+-----+--------------------+-----+--------------------+------+--------------------+\n",
      "|                 _id|         business_id|cool|      date|funny|           review_id|stars|                text|useful|             user_id|\n",
      "+--------------------+--------------------+----+----------+-----+--------------------+-----+--------------------+------+--------------------+\n",
      "|[5a5baf10cf6cfeac...|jQsNFOzDpxPmOurSW...|   0|2015-03-26|    0|i5UwUPlQFPLcE8p2g...|    4|For being fairly ...|     1|WZXp9-V2dqRRJqhGg...|\n",
      "+--------------------+--------------------+----+----------+-----+--------------------+-----+--------------------+------+--------------------+\n",
      "only showing top 1 row\n",
      "\n"
     ]
    }
   ],
   "source": [
    "reviews.show(1)"
   ]
  },
  {
   "cell_type": "code",
   "execution_count": 27,
   "metadata": {},
   "outputs": [
    {
     "data": {
      "text/plain": [
       "1727718"
      ]
     },
     "execution_count": 27,
     "metadata": {},
     "output_type": "execute_result"
    }
   ],
   "source": [
    "# reviews.count()"
   ]
  },
  {
   "cell_type": "code",
   "execution_count": 28,
   "metadata": {
    "collapsed": true
   },
   "outputs": [],
   "source": [
    "reviews = reviews.select(['business_id', 'user_id', 'text', 'stars'])"
   ]
  },
  {
   "cell_type": "code",
   "execution_count": 29,
   "metadata": {},
   "outputs": [],
   "source": [
    "business = business.select(['business_id', 'stars'])"
   ]
  },
  {
   "cell_type": "code",
   "execution_count": 30,
   "metadata": {
    "collapsed": true
   },
   "outputs": [],
   "source": [
    "users = users.select(['user_id'])"
   ]
  },
  {
   "cell_type": "code",
   "execution_count": null,
   "metadata": {
    "collapsed": true
   },
   "outputs": [],
   "source": []
  },
  {
   "cell_type": "code",
   "execution_count": null,
   "metadata": {
    "collapsed": true
   },
   "outputs": [],
   "source": []
  }
 ],
 "metadata": {
  "kernelspec": {
   "display_name": "Python 2",
   "language": "python",
   "name": "python2"
  },
  "language_info": {
   "codemirror_mode": {
    "name": "ipython",
    "version": 2
   },
   "file_extension": ".py",
   "mimetype": "text/x-python",
   "name": "python",
   "nbconvert_exporter": "python",
   "pygments_lexer": "ipython2",
   "version": "2.7.13"
  }
 },
 "nbformat": 4,
 "nbformat_minor": 2
}
